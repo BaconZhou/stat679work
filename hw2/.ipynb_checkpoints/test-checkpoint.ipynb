{
 "cells": [
  {
   "cell_type": "code",
   "execution_count": 14,
   "metadata": {},
   "outputs": [],
   "source": [
    "with open(\"energy.csv\") as f:\n",
    "    energy = [line.rstrip('\\n') for line in f if line.rstrip('\\n') != '']"
   ]
  },
  {
   "cell_type": "code",
   "execution_count": 15,
   "metadata": {},
   "outputs": [
    {
     "data": {
      "text/plain": [
       "['Date/Time,Energy Produced (Wh)',\n",
       " '2016-07-29 00:00:00 -0500,2956',\n",
       " '2016-07-30 00:00:00 -0500,9468',\n",
       " '2016-07-31 00:00:00 -0500,12062',\n",
       " '2016-08-01 00:00:00 -0500,10220',\n",
       " '2016-08-02 00:00:00 -0500,7711',\n",
       " '2016-08-03 00:00:00 -0500,8586',\n",
       " '2016-08-04 00:00:00 -0500,9159',\n",
       " '2016-08-05 00:00:00 -0500,11646',\n",
       " '2016-08-06 00:00:00 -0500,10482',\n",
       " '2016-08-07 00:00:00 -0500,7358',\n",
       " '2016-08-08 00:00:00 -0500,11560',\n",
       " '2016-08-09 00:00:00 -0500,10460',\n",
       " '2016-08-10 00:00:00 -0500,9208',\n",
       " '2016-08-11 00:00:00 -0500,5059',\n",
       " '2016-08-12 00:00:00 -0500,5222',\n",
       " '2016-08-13 00:00:00 -0500,8778',\n",
       " 'Total,139935']"
      ]
     },
     "execution_count": 15,
     "metadata": {},
     "output_type": "execute_result"
    }
   ],
   "source": [
    "lines"
   ]
  },
  {
   "cell_type": "code",
   "execution_count": 8,
   "metadata": {},
   "outputs": [
    {
     "data": {
      "text/plain": [
       "'\\n'"
      ]
     },
     "execution_count": 8,
     "metadata": {},
     "output_type": "execute_result"
    }
   ],
   "source": [
    "content[1]"
   ]
  },
  {
   "cell_type": "code",
   "execution_count": null,
   "metadata": {},
   "outputs": [],
   "source": []
  }
 ],
 "metadata": {
  "kernelspec": {
   "display_name": "Python [py35]",
   "language": "python",
   "name": "Python [py35]"
  },
  "language_info": {
   "codemirror_mode": {
    "name": "ipython",
    "version": 3
   },
   "file_extension": ".py",
   "mimetype": "text/x-python",
   "name": "python",
   "nbconvert_exporter": "python",
   "pygments_lexer": "ipython3",
   "version": "3.5.2"
  }
 },
 "nbformat": 4,
 "nbformat_minor": 0
}
